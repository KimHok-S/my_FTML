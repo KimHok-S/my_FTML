{
 "cells": [
  {
   "cell_type": "code",
   "execution_count": 1,
   "metadata": {},
   "outputs": [],
   "source": [
    "import math\n",
    "import numpy as np\n",
    "import os\n",
    "import pylab as pl\n",
    "import matplotlib.pyplot as plt\n",
    "import pandas as pd\n",
    "from IPython import display\n",
    "from graphviz import Graph"
   ]
  },
  {
   "cell_type": "code",
   "execution_count": 2,
   "metadata": {},
   "outputs": [],
   "source": [
    "dataframe = pd.read_csv(\"hybrid_data.csv\")"
   ]
  },
  {
   "cell_type": "code",
   "execution_count": 3,
   "metadata": {},
   "outputs": [
    {
     "data": {
      "text/html": [
       "<div>\n",
       "<style scoped>\n",
       "    .dataframe tbody tr th:only-of-type {\n",
       "        vertical-align: middle;\n",
       "    }\n",
       "\n",
       "    .dataframe tbody tr th {\n",
       "        vertical-align: top;\n",
       "    }\n",
       "\n",
       "    .dataframe thead th {\n",
       "        text-align: right;\n",
       "    }\n",
       "</style>\n",
       "<table border=\"1\" class=\"dataframe\">\n",
       "  <thead>\n",
       "    <tr style=\"text-align: right;\">\n",
       "      <th></th>\n",
       "      <th>Name</th>\n",
       "      <th>Fifa note</th>\n",
       "      <th>speed</th>\n",
       "      <th>favorite meal</th>\n",
       "      <th>nationality</th>\n",
       "      <th>world cups</th>\n",
       "    </tr>\n",
       "  </thead>\n",
       "  <tbody>\n",
       "    <tr>\n",
       "      <th>0</th>\n",
       "      <td>Toni Kroos</td>\n",
       "      <td>90</td>\n",
       "      <td>70</td>\n",
       "      <td>pasta</td>\n",
       "      <td>German</td>\n",
       "      <td>1</td>\n",
       "    </tr>\n",
       "    <tr>\n",
       "      <th>1</th>\n",
       "      <td>David De Gea</td>\n",
       "      <td>91</td>\n",
       "      <td>70</td>\n",
       "      <td>fries</td>\n",
       "      <td>Spanish</td>\n",
       "      <td>0</td>\n",
       "    </tr>\n",
       "    <tr>\n",
       "      <th>2</th>\n",
       "      <td>Sergio Ramos</td>\n",
       "      <td>91</td>\n",
       "      <td>80</td>\n",
       "      <td>pasta</td>\n",
       "      <td>Spanish</td>\n",
       "      <td>1</td>\n",
       "    </tr>\n",
       "    <tr>\n",
       "      <th>3</th>\n",
       "      <td>Kilyan Mbappé</td>\n",
       "      <td>100</td>\n",
       "      <td>100</td>\n",
       "      <td>fries</td>\n",
       "      <td>French</td>\n",
       "      <td>1</td>\n",
       "    </tr>\n",
       "    <tr>\n",
       "      <th>4</th>\n",
       "      <td>Mohammed Salah</td>\n",
       "      <td>88</td>\n",
       "      <td>95</td>\n",
       "      <td>pasta</td>\n",
       "      <td>Egyptian</td>\n",
       "      <td>0</td>\n",
       "    </tr>\n",
       "    <tr>\n",
       "      <th>5</th>\n",
       "      <td>Mats Hummels</td>\n",
       "      <td>80</td>\n",
       "      <td>73</td>\n",
       "      <td>vegetables</td>\n",
       "      <td>German</td>\n",
       "      <td>1</td>\n",
       "    </tr>\n",
       "  </tbody>\n",
       "</table>\n",
       "</div>"
      ],
      "text/plain": [
       "             Name  Fifa note  speed favorite meal nationality  world cups\n",
       "0      Toni Kroos         90     70         pasta      German           1\n",
       "1    David De Gea         91     70         fries     Spanish           0\n",
       "2    Sergio Ramos         91     80         pasta     Spanish           1\n",
       "3   Kilyan Mbappé        100    100         fries      French           1\n",
       "4  Mohammed Salah         88     95         pasta    Egyptian           0\n",
       "5    Mats Hummels         80     73    vegetables      German           1"
      ]
     },
     "execution_count": 3,
     "metadata": {},
     "output_type": "execute_result"
    }
   ],
   "source": [
    "dataframe"
   ]
  },
  {
   "cell_type": "code",
   "execution_count": 4,
   "metadata": {},
   "outputs": [
    {
     "name": "stdout",
     "output_type": "stream",
     "text": [
      "6\n"
     ]
    }
   ],
   "source": [
    "nb_players = len(dataframe.index)\n",
    "print(nb_players)"
   ]
  },
  {
   "cell_type": "code",
   "execution_count": 5,
   "metadata": {},
   "outputs": [
    {
     "name": "stdout",
     "output_type": "stream",
     "text": [
      "<class 'pandas.core.frame.DataFrame'>\n",
      "RangeIndex: 6 entries, 0 to 5\n",
      "Data columns (total 6 columns):\n",
      " #   Column         Non-Null Count  Dtype \n",
      "---  ------         --------------  ----- \n",
      " 0   Name           6 non-null      object\n",
      " 1   Fifa note      6 non-null      int64 \n",
      " 2   speed          6 non-null      int64 \n",
      " 3   favorite meal  6 non-null      object\n",
      " 4   nationality    6 non-null      object\n",
      " 5   world cups     6 non-null      int64 \n",
      "dtypes: int64(3), object(3)\n",
      "memory usage: 420.0+ bytes\n",
      "None\n"
     ]
    }
   ],
   "source": [
    "print(dataframe.info())"
   ]
  },
  {
   "cell_type": "code",
   "execution_count": 6,
   "metadata": {},
   "outputs": [
    {
     "name": "stdout",
     "output_type": "stream",
     "text": [
      "Index(['Name', 'Fifa note', 'speed', 'favorite meal', 'nationality',\n",
      "       'world cups'],\n",
      "      dtype='object')\n"
     ]
    }
   ],
   "source": [
    "print(dataframe.columns)"
   ]
  },
  {
   "cell_type": "code",
   "execution_count": 7,
   "metadata": {},
   "outputs": [
    {
     "name": "stdout",
     "output_type": "stream",
     "text": [
      "             Name  Fifa note  speed favorite meal nationality  world cups\n",
      "0      Toni Kroos         90     70         pasta      German           1\n",
      "1    David De Gea         91     70         fries     Spanish           0\n",
      "2    Sergio Ramos         91     80         pasta     Spanish           1\n",
      "3   Kilyan Mbappé        100    100         fries      French           1\n",
      "4  Mohammed Salah         88     95         pasta    Egyptian           0\n",
      "5    Mats Hummels         80     73    vegetables      German           1\n"
     ]
    }
   ],
   "source": [
    "print(dataframe.head(10))"
   ]
  },
  {
   "cell_type": "code",
   "execution_count": 8,
   "metadata": {},
   "outputs": [
    {
     "name": "stdout",
     "output_type": "stream",
     "text": [
      "---\n",
      "all information on player 1\n",
      "---\n",
      "Name             David De Gea\n",
      "Fifa note                  91\n",
      "speed                      70\n",
      "favorite meal           fries\n",
      "nationality           Spanish\n",
      "world cups                  0\n",
      "Name: 1, dtype: object\n"
     ]
    }
   ],
   "source": [
    "player_id = 1\n",
    "print(f\"---\\nall information on player {player_id}\\n---\")\n",
    "print(dataframe.loc[player_id])"
   ]
  },
  {
   "cell_type": "code",
   "execution_count": 9,
   "metadata": {},
   "outputs": [],
   "source": [
    "def compute_dissimilarity(player_1_id, player_2_id):\n",
    "    \"\"\"\n",
    "        Compute  dissimilarity betwwen two players\n",
    "        based on their id.\n",
    "\n",
    "        The meal is not a quantitative attribute.\n",
    "        It is called a categorical variable.\n",
    "        We must handle it differently than quantitative\n",
    "        attributes.\n",
    "\n",
    "        EDIT THIS FUNCTION\n",
    "    \"\"\"\n",
    "    dissimilarity = 0\n",
    "    dissimilarity += c_note * abs(dataframe.loc[player_1_id, \"Fifa note\"] - dataframe.loc[player_2_id, \"Fifa note\"])\n",
    "    dissimilarity += c_speed * abs(dataframe.loc[player_1_id, \"speed\"] - dataframe.loc[player_2_id, \"speed\"])\n",
    "    dissimilarity += c_nat * abs(dataframe.loc[player_1_id, \"nationality\"] != dataframe.loc[player_2_id, \"nationality\"])\n",
    "    dissimilarity += c_meal * abs(dataframe.loc[player_1_id, \"favorite meal\"] != dataframe.loc[player_2_id, \"favorite meal\"])\n",
    "    dissimilarity += c_world_cups * abs(dataframe.loc[player_1_id, \"world cups\"] - dataframe.loc[player_2_id, \"world cups\"])\n",
    "    return dissimilarity"
   ]
  },
  {
   "cell_type": "code",
   "execution_count": 50,
   "metadata": {},
   "outputs": [
    {
     "name": "stdout",
     "output_type": "stream",
     "text": [
      "compute dissimilarities\n"
     ]
    }
   ],
   "source": [
    "# build a dissimilarity matrix\n",
    "c_note = 0.2\n",
    "c_speed = 0.4\n",
    "c_nat = 0.3\n",
    "c_meal = 1.5\n",
    "c_world_cups = 0.1\n",
    "dissimilarity_matrix = np.zeros((nb_players, nb_players))\n",
    "print(\"compute dissimilarities\")\n",
    "for player_1_id in range(nb_players):\n",
    "    for player_2_id in range(nb_players):\n",
    "        dissimilarity = compute_dissimilarity(player_1_id, player_2_id)\n",
    "        dissimilarity_matrix[player_1_id, player_2_id] = dissimilarity\n",
    "\n",
    "# print(\"dissimilarity matrix\")"
   ]
  },
  {
   "cell_type": "code",
   "execution_count": 51,
   "metadata": {},
   "outputs": [
    {
     "data": {
      "text/plain": [
       "array([[ 0. ,  2.1,  4.5, 15.8, 10.8,  4.7],\n",
       "       [ 2.1,  0. ,  5.6, 14.2, 12.4,  5.3],\n",
       "       [ 4.5,  5.6,  0. , 11.6,  7. ,  6.8],\n",
       "       [15.8, 14.2, 11.6,  0. ,  6.3, 16.6],\n",
       "       [10.8, 12.4,  7. ,  6.3,  0. , 12.3],\n",
       "       [ 4.7,  5.3,  6.8, 16.6, 12.3,  0. ]])"
      ]
     },
     "execution_count": 51,
     "metadata": {},
     "output_type": "execute_result"
    }
   ],
   "source": [
    "dissimilarity_matrix"
   ]
  },
  {
   "cell_type": "code",
   "execution_count": 52,
   "metadata": {},
   "outputs": [],
   "source": [
    "mean_dissimilarity = dissimilarity_matrix.mean()"
   ]
  },
  {
   "cell_type": "code",
   "execution_count": 53,
   "metadata": {},
   "outputs": [
    {
     "data": {
      "text/plain": [
       "'images/complex_data_0_2_0_4_1_5_0_3_0_1_th_7_56E+00.pdf'"
      ]
     },
     "execution_count": 53,
     "metadata": {},
     "output_type": "execute_result"
    }
   ],
   "source": [
    "THRESHOLD = mean_dissimilarity\n",
    "# build a graph from the dissimilarity\n",
    "dot = Graph(comment='Graph created from complex data',\n",
    "            strict=True)\n",
    "for player_id in range(nb_players):\n",
    "    player_name = dataframe.loc[player_id][0]\n",
    "    dot.node(player_name)\n",
    "\n",
    "for player_1_id in range(nb_players):\n",
    "    # we use an undirected graph so we do not need\n",
    "    # to take the potential reciprocal edge\n",
    "    # into account\n",
    "    for player_2_id in range(player_1_id +1, nb_players):\n",
    "        player_1_name = dataframe.loc[player_1_id][0]\n",
    "        player_2_name = dataframe.loc[player_2_id][0]\n",
    "    \n",
    "        if dissimilarity_matrix[player_1_id, player_2_id] < THRESHOLD:\n",
    "            dot.edge(player_1_name,\n",
    "                    player_2_name,\n",
    "                    color='darkolivegreen4',\n",
    "                    penwidth='1.1')\n",
    "\n",
    "# visualize the graph\n",
    "# dot.attr(label=f\"threshold {threshold:.2f}\", fontsize='20')\n",
    "fig_name = f\"complex_data_{c_note}_{c_speed}_{c_meal}_{c_nat}_{c_world_cups}_th_{THRESHOLD:.2E}\"\n",
    "fig_name = fig_name.replace(\".\", \"_\")\n",
    "graph_name = os.path.join(\"images\", fig_name)\n",
    "dot.render(graph_name)"
   ]
  },
  {
   "cell_type": "code",
   "execution_count": 54,
   "metadata": {},
   "outputs": [
    {
     "data": {
      "image/svg+xml": [
       "<?xml version=\"1.0\" encoding=\"UTF-8\" standalone=\"no\"?>\n",
       "<!DOCTYPE svg PUBLIC \"-//W3C//DTD SVG 1.1//EN\"\n",
       " \"http://www.w3.org/Graphics/SVG/1.1/DTD/svg11.dtd\">\n",
       "<!-- Generated by graphviz version 8.0.5 (0)\n",
       " -->\n",
       "<!-- Pages: 1 -->\n",
       "<svg width=\"476pt\" height=\"260pt\"\n",
       " viewBox=\"0.00 0.00 475.97 260.00\" xmlns=\"http://www.w3.org/2000/svg\" xmlns:xlink=\"http://www.w3.org/1999/xlink\">\n",
       "<g id=\"graph0\" class=\"graph\" transform=\"scale(1 1) rotate(0) translate(4 256)\">\n",
       "<polygon fill=\"white\" stroke=\"none\" points=\"-4,4 -4,-256 471.97,-256 471.97,4 -4,4\"/>\n",
       "<!-- Toni Kroos -->\n",
       "<g id=\"node1\" class=\"node\">\n",
       "<title>Toni Kroos</title>\n",
       "<ellipse fill=\"none\" stroke=\"black\" cx=\"344.46\" cy=\"-234\" rx=\"64.36\" ry=\"18\"/>\n",
       "<text text-anchor=\"middle\" x=\"344.46\" y=\"-229.32\" font-family=\"Times,serif\" font-size=\"14.00\">Toni Kroos</text>\n",
       "</g>\n",
       "<!-- David De Gea -->\n",
       "<g id=\"node2\" class=\"node\">\n",
       "<title>David De Gea</title>\n",
       "<ellipse fill=\"none\" stroke=\"black\" cx=\"344.46\" cy=\"-162\" rx=\"79.62\" ry=\"18\"/>\n",
       "<text text-anchor=\"middle\" x=\"344.46\" y=\"-157.32\" font-family=\"Times,serif\" font-size=\"14.00\">David De Gea</text>\n",
       "</g>\n",
       "<!-- Toni Kroos&#45;&#45;David De Gea -->\n",
       "<g id=\"edge1\" class=\"edge\">\n",
       "<title>Toni Kroos&#45;&#45;David De Gea</title>\n",
       "<path fill=\"none\" stroke=\"#6e8b3d\" stroke-width=\"1.1\" d=\"M344.46,-215.7C344.46,-204.85 344.46,-190.92 344.46,-180.1\"/>\n",
       "</g>\n",
       "<!-- Sergio Ramos -->\n",
       "<g id=\"node3\" class=\"node\">\n",
       "<title>Sergio Ramos</title>\n",
       "<ellipse fill=\"none\" stroke=\"black\" cx=\"271.46\" cy=\"-90\" rx=\"80.67\" ry=\"18\"/>\n",
       "<text text-anchor=\"middle\" x=\"271.46\" y=\"-85.33\" font-family=\"Times,serif\" font-size=\"14.00\">Sergio Ramos</text>\n",
       "</g>\n",
       "<!-- Toni Kroos&#45;&#45;Sergio Ramos -->\n",
       "<g id=\"edge2\" class=\"edge\">\n",
       "<title>Toni Kroos&#45;&#45;Sergio Ramos</title>\n",
       "<path fill=\"none\" stroke=\"#6e8b3d\" stroke-width=\"1.1\" d=\"M304.36,-219.69C286.01,-211.37 266.03,-198.61 255.46,-180 242.66,-157.48 253,-127.02 261.98,-108.21\"/>\n",
       "</g>\n",
       "<!-- Mats Hummels -->\n",
       "<g id=\"node6\" class=\"node\">\n",
       "<title>Mats Hummels</title>\n",
       "<ellipse fill=\"none\" stroke=\"black\" cx=\"380.46\" cy=\"-18\" rx=\"87.51\" ry=\"18\"/>\n",
       "<text text-anchor=\"middle\" x=\"380.46\" y=\"-13.32\" font-family=\"Times,serif\" font-size=\"14.00\">Mats Hummels</text>\n",
       "</g>\n",
       "<!-- Toni Kroos&#45;&#45;Mats Hummels -->\n",
       "<g id=\"edge3\" class=\"edge\">\n",
       "<title>Toni Kroos&#45;&#45;Mats Hummels</title>\n",
       "<path fill=\"none\" stroke=\"#6e8b3d\" stroke-width=\"1.1\" d=\"M384.56,-219.69C402.91,-211.37 422.88,-198.61 433.46,-180 461.09,-131.39 418.51,-66.25 394.72,-35.89\"/>\n",
       "</g>\n",
       "<!-- David De Gea&#45;&#45;Sergio Ramos -->\n",
       "<g id=\"edge4\" class=\"edge\">\n",
       "<title>David De Gea&#45;&#45;Sergio Ramos</title>\n",
       "<path fill=\"none\" stroke=\"#6e8b3d\" stroke-width=\"1.1\" d=\"M326.79,-144.05C315.39,-133.13 300.63,-118.97 289.22,-108.03\"/>\n",
       "</g>\n",
       "<!-- David De Gea&#45;&#45;Mats Hummels -->\n",
       "<g id=\"edge5\" class=\"edge\">\n",
       "<title>David De Gea&#45;&#45;Mats Hummels</title>\n",
       "<path fill=\"none\" stroke=\"#6e8b3d\" stroke-width=\"1.1\" d=\"M350.41,-143.94C353.89,-133.62 358.22,-120.14 361.46,-108 368.05,-83.27 373.9,-54.2 377.32,-36.18\"/>\n",
       "</g>\n",
       "<!-- Mohammed Salah -->\n",
       "<g id=\"node5\" class=\"node\">\n",
       "<title>Mohammed Salah</title>\n",
       "<ellipse fill=\"none\" stroke=\"black\" cx=\"130.46\" cy=\"-18\" rx=\"101.19\" ry=\"18\"/>\n",
       "<text text-anchor=\"middle\" x=\"130.46\" y=\"-13.32\" font-family=\"Times,serif\" font-size=\"14.00\">Mohammed Salah</text>\n",
       "</g>\n",
       "<!-- Sergio Ramos&#45;&#45;Mohammed Salah -->\n",
       "<g id=\"edge6\" class=\"edge\">\n",
       "<title>Sergio Ramos&#45;&#45;Mohammed Salah</title>\n",
       "<path fill=\"none\" stroke=\"#6e8b3d\" stroke-width=\"1.1\" d=\"M239.46,-73.12C216.71,-61.82 186.24,-46.7 163.3,-35.31\"/>\n",
       "</g>\n",
       "<!-- Sergio Ramos&#45;&#45;Mats Hummels -->\n",
       "<g id=\"edge7\" class=\"edge\">\n",
       "<title>Sergio Ramos&#45;&#45;Mats Hummels</title>\n",
       "<path fill=\"none\" stroke=\"#6e8b3d\" stroke-width=\"1.1\" d=\"M297.01,-72.59C314.38,-61.43 337.27,-46.73 354.68,-35.55\"/>\n",
       "</g>\n",
       "<!-- Kilyan Mbappé -->\n",
       "<g id=\"node4\" class=\"node\">\n",
       "<title>Kilyan Mbappé</title>\n",
       "<ellipse fill=\"none\" stroke=\"black\" cx=\"86.46\" cy=\"-90\" rx=\"86.46\" ry=\"18\"/>\n",
       "<text text-anchor=\"middle\" x=\"86.46\" y=\"-85.33\" font-family=\"Times,serif\" font-size=\"14.00\">Kilyan Mbappé</text>\n",
       "</g>\n",
       "<!-- Kilyan Mbappé&#45;&#45;Mohammed Salah -->\n",
       "<g id=\"edge8\" class=\"edge\">\n",
       "<title>Kilyan Mbappé&#45;&#45;Mohammed Salah</title>\n",
       "<path fill=\"none\" stroke=\"#6e8b3d\" stroke-width=\"1.1\" d=\"M97.33,-71.7C104.15,-60.85 112.91,-46.92 119.71,-36.1\"/>\n",
       "</g>\n",
       "</g>\n",
       "</svg>\n"
      ],
      "text/plain": [
       "<graphviz.graphs.Graph at 0x7feca52b1a10>"
      ]
     },
     "execution_count": 54,
     "metadata": {},
     "output_type": "execute_result"
    }
   ],
   "source": [
    "dot"
   ]
  },
  {
   "cell_type": "code",
   "execution_count": null,
   "metadata": {},
   "outputs": [],
   "source": []
  }
 ],
 "metadata": {
  "kernelspec": {
   "display_name": "Python 3 (ipykernel)",
   "language": "python",
   "name": "python3"
  },
  "language_info": {
   "codemirror_mode": {
    "name": "ipython",
    "version": 3
   },
   "file_extension": ".py",
   "mimetype": "text/x-python",
   "name": "python",
   "nbconvert_exporter": "python",
   "pygments_lexer": "ipython3",
   "version": "3.11.0"
  }
 },
 "nbformat": 4,
 "nbformat_minor": 4
}
