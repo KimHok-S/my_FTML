{
 "cells": [
  {
   "cell_type": "code",
   "execution_count": null,
   "metadata": {},
   "outputs": [],
   "source": [
    "import numpy as np\n",
    "import os\n",
    "import matplotlib.pyplot as plt\n",
    "import math\n",
    "\n",
    "# data_1 = np.random.normal(loc=(2, 0.5), scale=0.1, size=(n_data, 2))\n",
    "# data_2 = np.random.normal(loc=(0, 0), scale=0.5, size=(n_data, 2))\n",
    "# data = np.concatenate((data_1, data_2))\n",
    "# np.save(\"data\",data)\n",
    "data = np.load(\"./geometric_data.npy\")\n",
    "\n",
    "x = data[:, 0]\n",
    "y = data[:, 1]\n",
    "\n",
    "plt.xlim([-1, 2.5])\n",
    "plt.ylim([-1, 1.1])\n",
    "fig_name = f\"data.pdf\"\n",
    "fig_path = os.path.join(\"images\", fig_name)\n",
    "print(fig_path)\n",
    "plt.xlim([-1, 2.5])\n",
    "plt.ylim([-1, 1.1])\n",
    "\n",
    "plt.plot(x, y, 'bo')\n",
    "plt.savefig(fig_path)\n",
    "\n",
    "def connectpoints(x, y, p1, p2):\n",
    "    x1, x2 = x[p1], x[p2]\n",
    "    y1, y2 = y[p1], y[p2]\n",
    "    plt.plot([x1, x2], [y1, y2], 'k-')"
   ]
  },
  {
   "cell_type": "code",
   "execution_count": null,
   "metadata": {},
   "outputs": [],
   "source": [
    "def clean_filename(text: str) -> str:\n",
    "    text = text.replace(\".\", \"_\")\n",
    "    return text"
   ]
  },
  {
   "cell_type": "code",
   "execution_count": null,
   "metadata": {},
   "outputs": [],
   "source": [
    "threshold = 0.1\n",
    "# choice of the distance type\n",
    "# distance_type = \"euclidean\"\n",
    "distance_type = \"manhattan\"\n",
    "distance_type = \"custom\"\n",
    "distance_type = \"infinie\"\n",
    "\n",
    "\n",
    "for (i, j) in [(i, j) for i in range(0, x.shape[0]) for j in range(0, x.shape[0])]:\n",
    "    # we look points a and b\n",
    "    x_a = x[i]\n",
    "    y_a = y[i]\n",
    "    x_b = x[j]\n",
    "    y_b = y[j]\n",
    "\n",
    "    # add lines here\n",
    "    distance = 0.1\n",
    "\n",
    "    # connect some points\n",
    "    if distance <= threshold:\n",
    "        if i is not j:\n",
    "            connectpoints(x, y, i, j)\n",
    "\n",
    "\n",
    "#if distance_type == \"infinie\":\n",
    "#    plt.title(f\"threshold {threshold}\\ndistance \"+r\"$L_{\\infty}$\")\n",
    "#else:\n",
    "#    plt.title(f\"threshold {threshold}\\ndistance {distance_type}\")\n",
    "\n",
    "# plt.title(f\"threshold {threshold}\\ndistance {distance_type}\")\n",
    "if distance_type == \"custom\":\n",
    "    fig_name = f\"thres_{threshold}_dist_{distance_type}_{co_x}_{co_y}\"\n",
    "else:\n",
    "    fig_name = f\"thres_{threshold}_dist_{distance_type}\"\n",
    "fig_name = f\"{clean_filename(fig_name)}.pdf\"\n",
    "fig_path = os.path.join(\"images\", fig_name)\n",
    "print(fig_path)\n",
    "plt.xlim([-1, 2.5])\n",
    "plt.ylim([-1, 1.1])\n",
    "plt.savefig(fig_path)\n",
    "plt.show()"
   ]
  },
  {
   "cell_type": "code",
   "execution_count": null,
   "metadata": {},
   "outputs": [],
   "source": []
  }
 ],
 "metadata": {
  "kernelspec": {
   "display_name": "Python 3 (ipykernel)",
   "language": "python",
   "name": "python3"
  },
  "language_info": {
   "codemirror_mode": {
    "name": "ipython",
    "version": 3
   },
   "file_extension": ".py",
   "mimetype": "text/x-python",
   "name": "python",
   "nbconvert_exporter": "python",
   "pygments_lexer": "ipython3",
   "version": "3.11.0"
  }
 },
 "nbformat": 4,
 "nbformat_minor": 4
}
