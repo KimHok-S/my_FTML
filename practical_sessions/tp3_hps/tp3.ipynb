{
 "cells": [
  {
   "attachments": {},
   "cell_type": "markdown",
   "metadata": {},
   "source": [
    "# TP3\n",
    "## 1 - Validation tests and cross validation"
   ]
  },
  {
   "cell_type": "code",
   "execution_count": 145,
   "metadata": {},
   "outputs": [],
   "source": [
    "import numpy as np\n",
    "from sklearn.datasets import load_wine\n",
    "from sklearn.datasets import load_digits\n",
    "from sklearn.model_selection import train_test_split\n",
    "from sklearn.model_selection import ParameterGrid\n",
    "from sklearn.tree import DecisionTreeClassifier\n",
    "from sklearn.svm import SVC\n",
    "from sklearn.model_selection import GridSearchCV\n",
    "from sklearn.model_selection import cross_val_score\n",
    "from sklearn.linear_model import RidgeCV"
   ]
  },
  {
   "attachments": {},
   "cell_type": "markdown",
   "metadata": {},
   "source": [
    "### 1.1 - Valisation sets"
   ]
  },
  {
   "cell_type": "code",
   "execution_count": 211,
   "metadata": {},
   "outputs": [
    {
     "name": "stdout",
     "output_type": "stream",
     "text": [
      "(178, 13)\n",
      "Best parameters: {'max_depth': 3, 'min_samples_split': 3}\n",
      "Best validation score: 0.9310344827586207\n",
      "Test score: 0.8888888888888888\n"
     ]
    }
   ],
   "source": [
    "# Load the wine dataset\n",
    "wine_db = load_wine()\n",
    "print(wine_db.data.shape)\n",
    "\n",
    "# Randomly select 150 samples\n",
    "random_subset = np.random.choice(wine_db.data.shape[0], 178, replace=False)\n",
    "wine_db.data = wine_db.data[random_subset]\n",
    "wine_db.target = wine_db.target[random_subset]\n",
    "\n",
    "# Train set\n",
    "X_train, X_test, y_train, y_test = train_test_split(wine_db.data, wine_db.target, test_size=0.2, random_state=42)\n",
    "# Validation set\n",
    "X_train, X_val, y_train, y_val = train_test_split(X_train, y_train, test_size=0.2, random_state=42)\n",
    "\n",
    "# Build a grid of parameters to compare hyperparameters\n",
    "param_grid = {'max_depth': [1, 2, 3, 4, 5, 6, 7, 8, 9, 10], 'min_samples_split': [2, 3, 4, 5, 6, 7, 8, 9, 10]}\n",
    "'''\n",
    "param_grid = {\n",
    "    'C': [0.1, 1, 10, 100, 1000],\n",
    "    'gamma': [1, 0.1, 0.01, 0.001, 0.0001],\n",
    "    'kernel': ['rbf']\n",
    "}\n",
    "'''\n",
    "grid = ParameterGrid(param_grid)\n",
    "\n",
    "# Train a decision tree for each parameter combination\n",
    "best_score = 0\n",
    "best_params = None\n",
    "for params in grid:\n",
    "    # Train a decision tree\n",
    "    clf = DecisionTreeClassifier(**params)\n",
    "    #clf = SVC(**params)\n",
    "    clf.fit(X_train, y_train)\n",
    "    # Evaluate the decision tree\n",
    "    score = clf.score(X_val, y_val)\n",
    "    # Keep the best model\n",
    "    if score > best_score:\n",
    "        best_score = score\n",
    "        best_params = params\n",
    "\n",
    "# Train the best model on the whole training set\n",
    "clf = DecisionTreeClassifier(**best_params)\n",
    "#clf = SVC(**best_params)\n",
    "clf.fit(X_train, y_train)\n",
    "\n",
    "print('Best parameters:', best_params)\n",
    "print('Best validation score:', best_score)\n",
    "print('Test score:', clf.score(X_test, y_test))\n"
   ]
  },
  {
   "cell_type": "code",
   "execution_count": 144,
   "metadata": {},
   "outputs": [
    {
     "name": "stdout",
     "output_type": "stream",
     "text": [
      "Best parameters: {'max_depth': 10, 'min_samples_split': 4}\n",
      "Best validation score: 0.6916666666666667\n",
      "Test score: 0.7166666666666667\n"
     ]
    }
   ],
   "source": [
    "# Load the digits dataset\n",
    "digits_db = load_digits()\n",
    "\n",
    "# Randomly select 300 samples\n",
    "random_subset = np.random.choice(digits_db.data.shape[0], 300, replace=False)\n",
    "digits_db.data = digits_db.data[random_subset]\n",
    "digits_db.target = digits_db.target[random_subset]\n",
    "\n",
    "# Train set\n",
    "X_train, X_test, y_train, y_test = train_test_split(digits_db.data, digits_db.target, test_size=0.2, random_state=42)\n",
    "# Validation set\n",
    "X_train, X_val, y_train, y_val = train_test_split(X_train, y_train, test_size=0.5, random_state=42)\n",
    "\n",
    "# Build a grid of parameters to compare hyperparameters\n",
    "param_grid = {'max_depth': [1, 2, 3, 4, 5, 6, 7, 8, 9, 10], 'min_samples_split': [2, 3, 4, 5, 6, 7, 8, 9, 10]}\n",
    "grid = ParameterGrid(param_grid)\n",
    "\n",
    "# Train a decision tree for each parameter combination\n",
    "best_score = 0\n",
    "best_params = None\n",
    "for params in grid:\n",
    "    # Train a decision tree\n",
    "    clf = DecisionTreeClassifier(**params)\n",
    "    clf.fit(X_train, y_train)\n",
    "    # Evaluate the decision tree\n",
    "    score = clf.score(X_val, y_val)\n",
    "    # Keep the best model\n",
    "    if score > best_score:\n",
    "        best_score = score\n",
    "        best_params = params\n",
    "\n",
    "# Train the best model on the whole training set\n",
    "clf = DecisionTreeClassifier(**best_params)\n",
    "clf = clf.fit(X_train, y_train)\n",
    "\n",
    "print('Best parameters:', best_params)\n",
    "print('Best validation score:', best_score)\n",
    "print('Test score:', clf.score(X_test, y_test))"
   ]
  },
  {
   "attachments": {},
   "cell_type": "markdown",
   "metadata": {},
   "source": [
    "### 1.2 - Cross validation"
   ]
  },
  {
   "cell_type": "code",
   "execution_count": 208,
   "metadata": {},
   "outputs": [
    {
     "name": "stdout",
     "output_type": "stream",
     "text": [
      "Cross-validation scores: [0.73333333 0.56666667 0.58333333 0.71666667 0.7       ]\n",
      "Mean cross-validation score: 0.6599999999999999\n"
     ]
    }
   ],
   "source": [
    "# Cross-validation digits\n",
    "clf = DecisionTreeClassifier(max_depth=5, min_samples_split=2)\n",
    "#clf = SVC(C=10, gamma=0.01, kernel='rbf')\n",
    "scores = cross_val_score(clf, digits_db.data, digits_db.target, cv=5)\n",
    "print('Cross-validation scores:', scores)\n",
    "print('Mean cross-validation score:', np.mean(scores))"
   ]
  },
  {
   "cell_type": "code",
   "execution_count": 209,
   "metadata": {},
   "outputs": [
    {
     "name": "stdout",
     "output_type": "stream",
     "text": [
      "Cross-validation scores: [0.91666667 0.88888889 0.97222222 0.91428571 0.82857143]\n",
      "Mean cross-validation score: 0.9041269841269841\n"
     ]
    }
   ],
   "source": [
    "# Cross-validation wine\n",
    "clf = DecisionTreeClassifier(max_depth=5, min_samples_split=2)\n",
    "#clf = SVC(C=10, gamma=0.01, kernel='rbf')\n",
    "scores = cross_val_score(clf, wine_db.data, wine_db.target, cv=5)\n",
    "print('Cross-validation scores:', scores)\n",
    "print('Mean cross-validation score:', np.mean(scores))"
   ]
  },
  {
   "cell_type": "code",
   "execution_count": 254,
   "metadata": {},
   "outputs": [
    {
     "name": "stdout",
     "output_type": "stream",
     "text": [
      "Best parameters: {'max_depth': 6, 'min_samples_split': 3}\n",
      "Best cross-validation score: 0.9384126984126985\n",
      "Test score: 1.0\n"
     ]
    }
   ],
   "source": [
    "# Grid search wine\n",
    "param_grid = {'max_depth': [1, 2, 3, 4, 5, 6, 7, 8, 9, 10], 'min_samples_split': [2, 3, 4, 5, 6, 7, 8, 9, 10]}\n",
    "#param_grid = {'C': [0.1, 1, 10, 100, 1000], 'gamma': [1, 0.1, 0.01, 0.001, 0.0001], 'kernel': ['rbf']}\n",
    "clf = GridSearchCV(DecisionTreeClassifier(), param_grid, cv=5)\n",
    "#clf = GridSearchCV(SVC(), param_grid, cv=5)\n",
    "clf.fit(wine_db.data, wine_db.target)\n",
    "print('Best parameters:', clf.best_params_)\n",
    "print('Best cross-validation score:', clf.best_score_)\n",
    "print('Test score:', clf.score(X_test, y_test))"
   ]
  },
  {
   "cell_type": "code",
   "execution_count": 255,
   "metadata": {},
   "outputs": [
    {
     "name": "stdout",
     "output_type": "stream",
     "text": [
      "Best alpha: 1.0\n",
      "Test score: 0.8568641238806292\n"
     ]
    }
   ],
   "source": [
    "# Ridge regression\n",
    "clf = RidgeCV(alphas=[0.1, 1.0, 10.0])\n",
    "clf.fit(X_train, y_train)\n",
    "print('Best alpha:', clf.alpha_)\n",
    "print('Test score:', clf.score(X_test, y_test))"
   ]
  }
 ],
 "metadata": {
  "kernelspec": {
   "display_name": "env",
   "language": "python",
   "name": "python3"
  },
  "language_info": {
   "codemirror_mode": {
    "name": "ipython",
    "version": 3
   },
   "file_extension": ".py",
   "mimetype": "text/x-python",
   "name": "python",
   "nbconvert_exporter": "python",
   "pygments_lexer": "ipython3",
   "version": "3.10.10"
  },
  "orig_nbformat": 4
 },
 "nbformat": 4,
 "nbformat_minor": 2
}
